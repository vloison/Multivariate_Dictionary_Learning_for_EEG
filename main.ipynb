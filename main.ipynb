{
 "cells": [
  {
   "cell_type": "markdown",
   "id": "pediatric-microphone",
   "metadata": {},
   "source": [
    "# Multivariate Temporal Dictionary Learning for EEG\n",
    "In this notebook, we reimplement experiment 1 of the article : \n",
    "Q. Barthélemy, C. Gouy-Pailler, Y. Isaac, A. Souloumiac, A. Larue, J.I. Mars,\n",
    "Multivariate temporal dictionary learning for EEG,\n",
    "Journal of Neuroscience Methods,\n",
    "Volume 215, Issue 1,\n",
    "2013,\n",
    "Pages 19-28,\n",
    "ISSN 0165-0270,\n",
    "https://doi.org/10.1016/j.jneumeth.2013.02.001.\n",
    "(https://www.sciencedirect.com/science/article/pii/S0165027013000666)"
   ]
  },
  {
   "cell_type": "code",
   "execution_count": 1,
   "id": "welcome-saturn",
   "metadata": {},
   "outputs": [],
   "source": [
    "import numpy as np\n",
    "import matplotlib.pyplot as plt\n",
    "# files handling\n",
    "import pickle\n",
    "from os import listdir\n",
    "#from os.path import exists\n",
    "#from scipy.io import loadmat\n",
    "import mne"
   ]
  },
  {
   "cell_type": "markdown",
   "id": "complimentary-speech",
   "metadata": {},
   "source": [
    "# Dataset"
   ]
  },
  {
   "cell_type": "markdown",
   "id": "effective-checklist",
   "metadata": {},
   "source": [
    "The dataset used in this experiment is dataset 2.a of the 2008 BCI competition. A description of this dataset can be found here : http://bbci.de/competition/iv/desc_2a.pdf . Although this dataset was made for a classification task, we will use it for dictionnary learning on EEG signals."
   ]
  },
  {
   "cell_type": "markdown",
   "id": "accepting-communist",
   "metadata": {},
   "source": [
    "### Load dataset\n",
    "For the preprocessing, we follow the article, and apply a bandwidth filter [8hz, 30Hz]. We also discard 3 channels : 'EOG-left', 'EOG-right', and 'EOG-central', as these channels are not useful to our task."
   ]
  },
  {
   "cell_type": "code",
   "execution_count": 39,
   "id": "talented-winner",
   "metadata": {},
   "outputs": [],
   "source": [
    "def load_dataset(preprocessing=True):\n",
    "    train = []\n",
    "    test = []\n",
    "    path = './dataset/'\n",
    "    items = listdir(path)\n",
    "    for item in items :\n",
    "        #Load session\n",
    "        raw=mne.io.read_raw_gdf(path+item, verbose=False, preload=True)\n",
    "        # print(raw.info.ch_names)\n",
    "        \n",
    "        # Apply bandwith filter\n",
    "        if preprocessing:\n",
    "            raw = raw.filter(l_freq=8, h_freq=30, picks=None)\n",
    "        # Convert to ndarray and discard EOG channels\n",
    "        raw_eeg = raw.get_data(picks=\n",
    "                                       ['EEG-Fz', 'EEG-0', 'EEG-1', 'EEG-2', 'EEG-3', 'EEG-4', 'EEG-5', \n",
    "                                        'EEG-C3', 'EEG-6', 'EEG-Cz', 'EEG-7', 'EEG-C4', 'EEG-8', 'EEG-9',\n",
    "                                        'EEG-10', 'EEG-11', 'EEG-12', 'EEG-13', 'EEG-14', 'EEG-Pz', 'EEG-15', 'EEG-16'])\n",
    "        # transpose to fit convention dim(signal) = (n_features, n_dims)\n",
    "        raw_eeg = raw_eeg.T\n",
    "        #raw_eeg.plot(n_channels=22)\n",
    "        # Store in corresponding list\n",
    "        if item[-5:] == 'T.gdf':\n",
    "            train.append(raw_eeg)\n",
    "        if item[-5:] == 'E.gdf':\n",
    "            test.append(raw_eeg)\n",
    "    return(train, test)"
   ]
  },
  {
   "cell_type": "code",
   "execution_count": 40,
   "id": "animated-statistics",
   "metadata": {},
   "outputs": [
    {
     "name": "stderr",
     "output_type": "stream",
     "text": [
      "C:\\Users\\viniv\\Anaconda3\\lib\\site-packages\\mne\\io\\edf\\edf.py:1044: DeprecationWarning: The binary mode of fromstring is deprecated, as it behaves surprisingly on unicode inputs. Use frombuffer instead\n",
      "  etmode = np.fromstring(etmode, UINT8).tolist()[0]\n",
      "<ipython-input-39-948fa8eb8205>:8: RuntimeWarning: Channel names are not unique, found duplicates for: {'EEG'}. Applying running numbers for duplicates.\n",
      "  raw=mne.io.read_raw_gdf(path+item, verbose=False, preload=True)\n",
      "C:\\Users\\viniv\\Anaconda3\\lib\\site-packages\\mne\\io\\edf\\edf.py:1044: DeprecationWarning: The binary mode of fromstring is deprecated, as it behaves surprisingly on unicode inputs. Use frombuffer instead\n",
      "  etmode = np.fromstring(etmode, UINT8).tolist()[0]\n",
      "<ipython-input-39-948fa8eb8205>:8: RuntimeWarning: Channel names are not unique, found duplicates for: {'EEG'}. Applying running numbers for duplicates.\n",
      "  raw=mne.io.read_raw_gdf(path+item, verbose=False, preload=True)\n",
      "C:\\Users\\viniv\\Anaconda3\\lib\\site-packages\\mne\\io\\edf\\edf.py:1044: DeprecationWarning: The binary mode of fromstring is deprecated, as it behaves surprisingly on unicode inputs. Use frombuffer instead\n",
      "  etmode = np.fromstring(etmode, UINT8).tolist()[0]\n",
      "<ipython-input-39-948fa8eb8205>:8: RuntimeWarning: Channel names are not unique, found duplicates for: {'EEG'}. Applying running numbers for duplicates.\n",
      "  raw=mne.io.read_raw_gdf(path+item, verbose=False, preload=True)\n",
      "C:\\Users\\viniv\\Anaconda3\\lib\\site-packages\\mne\\io\\edf\\edf.py:1044: DeprecationWarning: The binary mode of fromstring is deprecated, as it behaves surprisingly on unicode inputs. Use frombuffer instead\n",
      "  etmode = np.fromstring(etmode, UINT8).tolist()[0]\n",
      "<ipython-input-39-948fa8eb8205>:8: RuntimeWarning: Channel names are not unique, found duplicates for: {'EEG'}. Applying running numbers for duplicates.\n",
      "  raw=mne.io.read_raw_gdf(path+item, verbose=False, preload=True)\n",
      "C:\\Users\\viniv\\Anaconda3\\lib\\site-packages\\mne\\io\\edf\\edf.py:1044: DeprecationWarning: The binary mode of fromstring is deprecated, as it behaves surprisingly on unicode inputs. Use frombuffer instead\n",
      "  etmode = np.fromstring(etmode, UINT8).tolist()[0]\n",
      "<ipython-input-39-948fa8eb8205>:8: RuntimeWarning: Channel names are not unique, found duplicates for: {'EEG'}. Applying running numbers for duplicates.\n",
      "  raw=mne.io.read_raw_gdf(path+item, verbose=False, preload=True)\n",
      "C:\\Users\\viniv\\Anaconda3\\lib\\site-packages\\mne\\io\\edf\\edf.py:1044: DeprecationWarning: The binary mode of fromstring is deprecated, as it behaves surprisingly on unicode inputs. Use frombuffer instead\n",
      "  etmode = np.fromstring(etmode, UINT8).tolist()[0]\n",
      "<ipython-input-39-948fa8eb8205>:8: RuntimeWarning: Channel names are not unique, found duplicates for: {'EEG'}. Applying running numbers for duplicates.\n",
      "  raw=mne.io.read_raw_gdf(path+item, verbose=False, preload=True)\n",
      "C:\\Users\\viniv\\Anaconda3\\lib\\site-packages\\mne\\io\\edf\\edf.py:1044: DeprecationWarning: The binary mode of fromstring is deprecated, as it behaves surprisingly on unicode inputs. Use frombuffer instead\n",
      "  etmode = np.fromstring(etmode, UINT8).tolist()[0]\n",
      "<ipython-input-39-948fa8eb8205>:8: RuntimeWarning: Channel names are not unique, found duplicates for: {'EEG'}. Applying running numbers for duplicates.\n",
      "  raw=mne.io.read_raw_gdf(path+item, verbose=False, preload=True)\n",
      "C:\\Users\\viniv\\Anaconda3\\lib\\site-packages\\mne\\io\\edf\\edf.py:1044: DeprecationWarning: The binary mode of fromstring is deprecated, as it behaves surprisingly on unicode inputs. Use frombuffer instead\n",
      "  etmode = np.fromstring(etmode, UINT8).tolist()[0]\n",
      "<ipython-input-39-948fa8eb8205>:8: RuntimeWarning: Channel names are not unique, found duplicates for: {'EEG'}. Applying running numbers for duplicates.\n",
      "  raw=mne.io.read_raw_gdf(path+item, verbose=False, preload=True)\n",
      "C:\\Users\\viniv\\Anaconda3\\lib\\site-packages\\mne\\io\\edf\\edf.py:1044: DeprecationWarning: The binary mode of fromstring is deprecated, as it behaves surprisingly on unicode inputs. Use frombuffer instead\n",
      "  etmode = np.fromstring(etmode, UINT8).tolist()[0]\n",
      "<ipython-input-39-948fa8eb8205>:8: RuntimeWarning: Channel names are not unique, found duplicates for: {'EEG'}. Applying running numbers for duplicates.\n",
      "  raw=mne.io.read_raw_gdf(path+item, verbose=False, preload=True)\n",
      "C:\\Users\\viniv\\Anaconda3\\lib\\site-packages\\mne\\io\\edf\\edf.py:1044: DeprecationWarning: The binary mode of fromstring is deprecated, as it behaves surprisingly on unicode inputs. Use frombuffer instead\n",
      "  etmode = np.fromstring(etmode, UINT8).tolist()[0]\n",
      "<ipython-input-39-948fa8eb8205>:8: RuntimeWarning: Channel names are not unique, found duplicates for: {'EEG'}. Applying running numbers for duplicates.\n",
      "  raw=mne.io.read_raw_gdf(path+item, verbose=False, preload=True)\n",
      "C:\\Users\\viniv\\Anaconda3\\lib\\site-packages\\mne\\io\\edf\\edf.py:1044: DeprecationWarning: The binary mode of fromstring is deprecated, as it behaves surprisingly on unicode inputs. Use frombuffer instead\n",
      "  etmode = np.fromstring(etmode, UINT8).tolist()[0]\n",
      "<ipython-input-39-948fa8eb8205>:8: RuntimeWarning: Channel names are not unique, found duplicates for: {'EEG'}. Applying running numbers for duplicates.\n",
      "  raw=mne.io.read_raw_gdf(path+item, verbose=False, preload=True)\n",
      "C:\\Users\\viniv\\Anaconda3\\lib\\site-packages\\mne\\io\\edf\\edf.py:1044: DeprecationWarning: The binary mode of fromstring is deprecated, as it behaves surprisingly on unicode inputs. Use frombuffer instead\n",
      "  etmode = np.fromstring(etmode, UINT8).tolist()[0]\n",
      "<ipython-input-39-948fa8eb8205>:8: RuntimeWarning: Channel names are not unique, found duplicates for: {'EEG'}. Applying running numbers for duplicates.\n",
      "  raw=mne.io.read_raw_gdf(path+item, verbose=False, preload=True)\n",
      "C:\\Users\\viniv\\Anaconda3\\lib\\site-packages\\mne\\io\\edf\\edf.py:1044: DeprecationWarning: The binary mode of fromstring is deprecated, as it behaves surprisingly on unicode inputs. Use frombuffer instead\n",
      "  etmode = np.fromstring(etmode, UINT8).tolist()[0]\n",
      "<ipython-input-39-948fa8eb8205>:8: RuntimeWarning: Channel names are not unique, found duplicates for: {'EEG'}. Applying running numbers for duplicates.\n",
      "  raw=mne.io.read_raw_gdf(path+item, verbose=False, preload=True)\n",
      "C:\\Users\\viniv\\Anaconda3\\lib\\site-packages\\mne\\io\\edf\\edf.py:1044: DeprecationWarning: The binary mode of fromstring is deprecated, as it behaves surprisingly on unicode inputs. Use frombuffer instead\n",
      "  etmode = np.fromstring(etmode, UINT8).tolist()[0]\n",
      "<ipython-input-39-948fa8eb8205>:8: RuntimeWarning: Channel names are not unique, found duplicates for: {'EEG'}. Applying running numbers for duplicates.\n",
      "  raw=mne.io.read_raw_gdf(path+item, verbose=False, preload=True)\n",
      "C:\\Users\\viniv\\Anaconda3\\lib\\site-packages\\mne\\io\\edf\\edf.py:1044: DeprecationWarning: The binary mode of fromstring is deprecated, as it behaves surprisingly on unicode inputs. Use frombuffer instead\n",
      "  etmode = np.fromstring(etmode, UINT8).tolist()[0]\n",
      "<ipython-input-39-948fa8eb8205>:8: RuntimeWarning: Channel names are not unique, found duplicates for: {'EEG'}. Applying running numbers for duplicates.\n",
      "  raw=mne.io.read_raw_gdf(path+item, verbose=False, preload=True)\n",
      "C:\\Users\\viniv\\Anaconda3\\lib\\site-packages\\mne\\io\\edf\\edf.py:1044: DeprecationWarning: The binary mode of fromstring is deprecated, as it behaves surprisingly on unicode inputs. Use frombuffer instead\n",
      "  etmode = np.fromstring(etmode, UINT8).tolist()[0]\n",
      "<ipython-input-39-948fa8eb8205>:8: RuntimeWarning: Channel names are not unique, found duplicates for: {'EEG'}. Applying running numbers for duplicates.\n",
      "  raw=mne.io.read_raw_gdf(path+item, verbose=False, preload=True)\n",
      "C:\\Users\\viniv\\Anaconda3\\lib\\site-packages\\mne\\io\\edf\\edf.py:1044: DeprecationWarning: The binary mode of fromstring is deprecated, as it behaves surprisingly on unicode inputs. Use frombuffer instead\n",
      "  etmode = np.fromstring(etmode, UINT8).tolist()[0]\n",
      "<ipython-input-39-948fa8eb8205>:8: RuntimeWarning: Channel names are not unique, found duplicates for: {'EEG'}. Applying running numbers for duplicates.\n",
      "  raw=mne.io.read_raw_gdf(path+item, verbose=False, preload=True)\n",
      "C:\\Users\\viniv\\Anaconda3\\lib\\site-packages\\mne\\io\\edf\\edf.py:1044: DeprecationWarning: The binary mode of fromstring is deprecated, as it behaves surprisingly on unicode inputs. Use frombuffer instead\n",
      "  etmode = np.fromstring(etmode, UINT8).tolist()[0]\n",
      "<ipython-input-39-948fa8eb8205>:8: RuntimeWarning: Channel names are not unique, found duplicates for: {'EEG'}. Applying running numbers for duplicates.\n",
      "  raw=mne.io.read_raw_gdf(path+item, verbose=False, preload=True)\n"
     ]
    },
    {
     "name": "stdout",
     "output_type": "stream",
     "text": [
      "(672528, 22)\n",
      "0.0006457132104828345\n",
      "-0.0006461001398773491\n"
     ]
    }
   ],
   "source": [
    "train, test = load_dataset(preprocessing=True)\n",
    "print(train[0].shape)\n",
    "print(train[0].max())\n",
    "print(train[0].min())"
   ]
  },
  {
   "cell_type": "markdown",
   "id": "ceramic-animal",
   "metadata": {},
   "source": [
    "# Multivariate dictionary learning"
   ]
  },
  {
   "cell_type": "markdown",
   "id": "olive-procurement",
   "metadata": {},
   "source": [
    "In this section, we will use the multivariate dictionary learning (M-DLA) presented in the article. This algorithm is the alternation of two phases : \n",
    "- Multivariate sparse approximation, using multivariate orthogonal matching pursuit (M-OMP)\n",
    "- Multivariate dictionary update, using a maximum likelihood criterion."
   ]
  },
  {
   "cell_type": "markdown",
   "id": "working-dodge",
   "metadata": {},
   "source": [
    "Sparse approximation"
   ]
  },
  {
   "cell_type": "code",
   "execution_count": 72,
   "id": "civilian-location",
   "metadata": {},
   "outputs": [],
   "source": [
    "def place_in_signal(toplace, final_length, shift):\n",
    "    extended_signal = np.zeros((final_length, toplace.shape[1]))\n",
    "    extended_signal[shift : shift + toplace.shape[0], :] = toplace\n",
    "    return extended_signal\n",
    "\n",
    "def M_OMP(signal, compact_dict, n_nonzero_coefs, verbose=False):\n",
    "    \"\"\"\n",
    "    Parameters:\n",
    "    signal: array of shape (n_samples, n_dims)\n",
    "        it's the data for one session, for one patient.\n",
    "    compact_dict: list of arrays\n",
    "        compact dictionary among which the members of the active\n",
    "        dictionary will be chosen. Each element is a convolution kernel,\n",
    "        i.e. an array of shape (k, n_dims), where k <= n_features and is\n",
    "        kernel specific. The algorithm normalizes the kernels.\n",
    "    n_nonzero_coefs: int\n",
    "        number of non-zero coordinates in the final sparse coding\n",
    "        vector.\n",
    "    \n",
    "    Returns:\n",
    "    \n",
    "    \"\"\"\n",
    "    # Initialization\n",
    "    n_kernels = len(compact_dict)\n",
    "    k_max_len = np.max([k.shape[0] for k in compact_dict])\n",
    "    k_min_len = np.min([k.shape[0] for k in compact_dict])\n",
    "    n_samples, n_dims = signal.shape\n",
    "    flat_signal = signal.flatten().T\n",
    "    residual = signal.copy()\n",
    "    # Initialize active compct dict : [amplitude, offset, kernel]*n_nonzero_coefs\n",
    "    active_comp_dict = np.zeros((n_nonzero_coefs, 3)) -1\n",
    "    atoms = np.zeros((n_nonzero_coefs, n_samples, n_dims))-1\n",
    "    \n",
    "    \n",
    "    # Main loop\n",
    "    for atoms_in_estimate in range(n_nonzero_coefs):\n",
    "        # print(\"atoms_in_estimate\", atoms_in_estimate)\n",
    "        # Compute correlations : array of size (n_kernels, max shift)\n",
    "        # Pour la coord du shift j'ai recopié le git mais j'ai pas trop compris pourquoi ils prennent ça\n",
    "        correlation = np.zeros((n_kernels,  max(n_samples, k_max_len) - min(n_samples, k_min_len) + 1))\n",
    "        for l in range(n_kernels):\n",
    "            # Sum the correlations over each dimension\n",
    "            corr = 0\n",
    "            for dim in range(n_dims):\n",
    "                corr += np.correlate(residual[:, dim], compact_dict[l][:, dim], mode='valid')\n",
    "            correlation[l, :len(corr)] = corr\n",
    "        \n",
    "        # Select kernel to add to active dictionary\n",
    "        new_kernel, new_shift = np.unravel_index(np.argmax(np.abs(correlation)), correlation.shape)\n",
    "        # PEUT ETRE AJOUTER UN BOUT POUR VERIFIER QUE CE KERNEL NA PAS ETE UTILISE\n",
    "        \n",
    "        # Update active dictionary : comp dictionary , atoms, and flattened dictionary\n",
    "        new_amplitude = correlation[new_kernel, new_shift]  # Est ce quon en a besoin?\n",
    "        active_comp_dict[atoms_in_estimate] = np.array([new_amplitude, new_shift, new_kernel])\n",
    "        new_atom = place_in_signal(compact_dict[new_kernel], n_samples, new_shift)\n",
    "        atoms[atoms_in_estimate] = new_atom\n",
    "        if atoms_in_estimate == 0:\n",
    "            D = new_atom.flatten().T.reshape(n_samples*n_dims, 1)\n",
    "        elif atoms_in_estimate == 1:\n",
    "            #D = D.flatten().T\n",
    "            D = np.stack((D.flatten(), new_atom.flatten()), axis=-1)\n",
    "        else:\n",
    "            D = np.column_stack((D, new_atom.flatten()))\n",
    "\n",
    "        # Compute new sparse encoding vector\n",
    "        x = np.linalg.lstsq(D, flat_signal)[0]\n",
    "        \n",
    "        # Compute estimated signal and residual\n",
    "        estimate = np.zeros((n_samples, n_dims))\n",
    "        for k in range(atoms_in_estimate+1):\n",
    "            estimate = estimate + x[k]*atoms[k]\n",
    "        residual = signal - estimate\n",
    "    if verbose:\n",
    "        print(\"x\", x)\n",
    "        print(\"x.shape\", x.shape)\n",
    "        print(\"active_comp_dict\", active_comp_dict)\n",
    "        print(\"residual\", residual)\n",
    "    return x, active_comp_dict, residual"
   ]
  },
  {
   "cell_type": "code",
   "execution_count": 71,
   "id": "uniform-peeing",
   "metadata": {},
   "outputs": [
    {
     "name": "stderr",
     "output_type": "stream",
     "text": [
      "C:\\Users\\viniv\\Anaconda3\\lib\\site-packages\\ipykernel_launcher.py:64: FutureWarning: `rcond` parameter will change to the default of machine precision times ``max(M, N)`` where M and N are the input matrix dimensions.\n",
      "To use the future default and silence this warning we advise to pass `rcond=None`, to keep using the old, explicitly pass `rcond=-1`.\n"
     ]
    },
    {
     "data": {
      "text/plain": [
       "(array([-0.0890238 ,  0.32864756,  0.4446297 , -0.46276909,  0.39215957,\n",
       "         0.75528642]),\n",
       " array([[ 4.09270633,  3.        ,  0.        ],\n",
       "        [ 2.92969458,  0.        ,  2.        ],\n",
       "        [ 1.58596475,  5.        ,  2.        ],\n",
       "        [-0.54876689,  4.        ,  1.        ],\n",
       "        [ 0.61686695,  1.        ,  5.        ],\n",
       "        [ 0.58290207,  3.        ,  6.        ]]),\n",
       " array([[-0.02836013, -0.09217805,  0.17079153],\n",
       "        [ 0.20517847, -0.14106902,  0.14714718],\n",
       "        [ 0.42925784,  0.05654619,  0.02090071],\n",
       "        [ 0.06816559,  0.24323707, -0.09050803],\n",
       "        [-0.35083821, -0.01870044,  0.04608032],\n",
       "        [-0.1547321 , -0.10709754,  0.00530149],\n",
       "        [-0.11893497, -0.00765195,  0.09108222],\n",
       "        [-0.11326426,  0.15152987,  0.12228309],\n",
       "        [ 0.10708774,  0.10000868,  0.1830327 ],\n",
       "        [-0.38578795,  0.10959943,  0.02524831]]))"
      ]
     },
     "execution_count": 71,
     "metadata": {},
     "output_type": "execute_result"
    }
   ],
   "source": [
    "signal = np.random.rand(10, 3)\n",
    "compact_dict = [np.random.rand(5, 3) for _ in range(7)]\n",
    "n_nonzero_coefs = 6\n",
    "\n",
    "M_OMP(signal, compact_dict, n_nonzero_coefs)"
   ]
  },
  {
   "cell_type": "markdown",
   "id": "silver-jacob",
   "metadata": {},
   "source": [
    "Dictionary update"
   ]
  },
  {
   "cell_type": "code",
   "execution_count": 42,
   "id": "touched-archive",
   "metadata": {},
   "outputs": [
    {
     "name": "stdout",
     "output_type": "stream",
     "text": [
      "[0. 0. 0. 0. 0. 0.]\n"
     ]
    }
   ],
   "source": []
  },
  {
   "cell_type": "markdown",
   "id": "christian-tract",
   "metadata": {},
   "source": [
    "Dictionary learning"
   ]
  },
  {
   "cell_type": "code",
   "execution_count": null,
   "id": "negative-naples",
   "metadata": {},
   "outputs": [],
   "source": []
  }
 ],
 "metadata": {
  "kernelspec": {
   "display_name": "Python 3",
   "language": "python",
   "name": "python3"
  },
  "language_info": {
   "codemirror_mode": {
    "name": "ipython",
    "version": 3
   },
   "file_extension": ".py",
   "mimetype": "text/x-python",
   "name": "python",
   "nbconvert_exporter": "python",
   "pygments_lexer": "ipython3",
   "version": "3.7.9"
  }
 },
 "nbformat": 4,
 "nbformat_minor": 5
}

{
 "cells": [
  {
   "cell_type": "markdown",
   "id": "noticed-muscle",
   "metadata": {},
   "source": [
    "# Multivariate Temporal Dictionary Learning for EEG\n",
    "In this notebook, we reimplement experiment 1 of the article : \n",
    "Q. Barthélemy, C. Gouy-Pailler, Y. Isaac, A. Souloumiac, A. Larue, J.I. Mars,\n",
    "Multivariate temporal dictionary learning for EEG,\n",
    "Journal of Neuroscience Methods,\n",
    "Volume 215, Issue 1,\n",
    "2013,\n",
    "Pages 19-28,\n",
    "ISSN 0165-0270,\n",
    "https://doi.org/10.1016/j.jneumeth.2013.02.001.\n",
    "(https://www.sciencedirect.com/science/article/pii/S0165027013000666)"
   ]
  },
  {
   "cell_type": "code",
   "execution_count": 1,
   "id": "authentic-planet",
   "metadata": {},
   "outputs": [],
   "source": [
    "import numpy as np\n",
    "import matplotlib.pyplot as plt\n",
    "# files handling\n",
    "import pickle\n",
    "from os import listdir\n",
    "#from os.path import exists\n",
    "#from scipy.io import loadmat\n",
    "import mne"
   ]
  },
  {
   "cell_type": "markdown",
   "id": "smaller-trick",
   "metadata": {},
   "source": [
    "# Dataset"
   ]
  },
  {
   "cell_type": "markdown",
   "id": "pursuant-conjunction",
   "metadata": {},
   "source": [
    "The dataset used in this experiment is dataset 2.a of the 2008 BCI competition. A description of this dataset can be found here : http://bbci.de/competition/iv/desc_2a.pdf . Although this dataset was made for a classification task, we will use it for dictionnary learning on EEG signals."
   ]
  },
  {
   "cell_type": "markdown",
   "id": "emotional-sequence",
   "metadata": {},
   "source": [
    "### Load dataset\n",
    "For the preprocessing, we follow the article, and apply a bandwidth filter [8hz, 30Hz]. We also discard 3 channels : 'EOG-left', 'EOG-right', and 'EOG-central', as these channels are not useful to our task."
   ]
  },
  {
   "cell_type": "code",
   "execution_count": 39,
   "id": "unavailable-litigation",
   "metadata": {},
   "outputs": [],
   "source": [
    "def load_dataset(preprocessing=True):\n",
    "    train = []\n",
    "    test = []\n",
    "    path = './dataset/'\n",
    "    items = listdir(path)\n",
    "    for item in items :\n",
    "        #Load session\n",
    "        raw=mne.io.read_raw_gdf(path+item, verbose=False, preload=True)\n",
    "        # print(raw.info.ch_names)\n",
    "        \n",
    "        # Apply bandwith filter\n",
    "        if preprocessing:\n",
    "            raw = raw.filter(l_freq=8, h_freq=30, picks=None)\n",
    "        # Convert to ndarray and discard EOG channels\n",
    "        raw_eeg = raw.get_data(picks=\n",
    "                                       ['EEG-Fz', 'EEG-0', 'EEG-1', 'EEG-2', 'EEG-3', 'EEG-4', 'EEG-5', \n",
    "                                        'EEG-C3', 'EEG-6', 'EEG-Cz', 'EEG-7', 'EEG-C4', 'EEG-8', 'EEG-9',\n",
    "                                        'EEG-10', 'EEG-11', 'EEG-12', 'EEG-13', 'EEG-14', 'EEG-Pz', 'EEG-15', 'EEG-16'])\n",
    "        # transpose to fit convention dim(signal) = (n_features, n_dims)\n",
    "        raw_eeg = raw_eeg.T\n",
    "        #raw_eeg.plot(n_channels=22)\n",
    "        # Store in corresponding list\n",
    "        if item[-5:] == 'T.gdf':\n",
    "            train.append(raw_eeg)\n",
    "        if item[-5:] == 'E.gdf':\n",
    "            test.append(raw_eeg)\n",
    "    return(train, test)"
   ]
  },
  {
   "cell_type": "code",
   "execution_count": 40,
   "id": "functioning-aquatic",
   "metadata": {},
   "outputs": [
    {
     "name": "stderr",
     "output_type": "stream",
     "text": [
      "C:\\Users\\viniv\\Anaconda3\\lib\\site-packages\\mne\\io\\edf\\edf.py:1044: DeprecationWarning: The binary mode of fromstring is deprecated, as it behaves surprisingly on unicode inputs. Use frombuffer instead\n",
      "  etmode = np.fromstring(etmode, UINT8).tolist()[0]\n",
      "<ipython-input-39-948fa8eb8205>:8: RuntimeWarning: Channel names are not unique, found duplicates for: {'EEG'}. Applying running numbers for duplicates.\n",
      "  raw=mne.io.read_raw_gdf(path+item, verbose=False, preload=True)\n",
      "C:\\Users\\viniv\\Anaconda3\\lib\\site-packages\\mne\\io\\edf\\edf.py:1044: DeprecationWarning: The binary mode of fromstring is deprecated, as it behaves surprisingly on unicode inputs. Use frombuffer instead\n",
      "  etmode = np.fromstring(etmode, UINT8).tolist()[0]\n",
      "<ipython-input-39-948fa8eb8205>:8: RuntimeWarning: Channel names are not unique, found duplicates for: {'EEG'}. Applying running numbers for duplicates.\n",
      "  raw=mne.io.read_raw_gdf(path+item, verbose=False, preload=True)\n",
      "C:\\Users\\viniv\\Anaconda3\\lib\\site-packages\\mne\\io\\edf\\edf.py:1044: DeprecationWarning: The binary mode of fromstring is deprecated, as it behaves surprisingly on unicode inputs. Use frombuffer instead\n",
      "  etmode = np.fromstring(etmode, UINT8).tolist()[0]\n",
      "<ipython-input-39-948fa8eb8205>:8: RuntimeWarning: Channel names are not unique, found duplicates for: {'EEG'}. Applying running numbers for duplicates.\n",
      "  raw=mne.io.read_raw_gdf(path+item, verbose=False, preload=True)\n",
      "C:\\Users\\viniv\\Anaconda3\\lib\\site-packages\\mne\\io\\edf\\edf.py:1044: DeprecationWarning: The binary mode of fromstring is deprecated, as it behaves surprisingly on unicode inputs. Use frombuffer instead\n",
      "  etmode = np.fromstring(etmode, UINT8).tolist()[0]\n",
      "<ipython-input-39-948fa8eb8205>:8: RuntimeWarning: Channel names are not unique, found duplicates for: {'EEG'}. Applying running numbers for duplicates.\n",
      "  raw=mne.io.read_raw_gdf(path+item, verbose=False, preload=True)\n",
      "C:\\Users\\viniv\\Anaconda3\\lib\\site-packages\\mne\\io\\edf\\edf.py:1044: DeprecationWarning: The binary mode of fromstring is deprecated, as it behaves surprisingly on unicode inputs. Use frombuffer instead\n",
      "  etmode = np.fromstring(etmode, UINT8).tolist()[0]\n",
      "<ipython-input-39-948fa8eb8205>:8: RuntimeWarning: Channel names are not unique, found duplicates for: {'EEG'}. Applying running numbers for duplicates.\n",
      "  raw=mne.io.read_raw_gdf(path+item, verbose=False, preload=True)\n",
      "C:\\Users\\viniv\\Anaconda3\\lib\\site-packages\\mne\\io\\edf\\edf.py:1044: DeprecationWarning: The binary mode of fromstring is deprecated, as it behaves surprisingly on unicode inputs. Use frombuffer instead\n",
      "  etmode = np.fromstring(etmode, UINT8).tolist()[0]\n",
      "<ipython-input-39-948fa8eb8205>:8: RuntimeWarning: Channel names are not unique, found duplicates for: {'EEG'}. Applying running numbers for duplicates.\n",
      "  raw=mne.io.read_raw_gdf(path+item, verbose=False, preload=True)\n",
      "C:\\Users\\viniv\\Anaconda3\\lib\\site-packages\\mne\\io\\edf\\edf.py:1044: DeprecationWarning: The binary mode of fromstring is deprecated, as it behaves surprisingly on unicode inputs. Use frombuffer instead\n",
      "  etmode = np.fromstring(etmode, UINT8).tolist()[0]\n",
      "<ipython-input-39-948fa8eb8205>:8: RuntimeWarning: Channel names are not unique, found duplicates for: {'EEG'}. Applying running numbers for duplicates.\n",
      "  raw=mne.io.read_raw_gdf(path+item, verbose=False, preload=True)\n",
      "C:\\Users\\viniv\\Anaconda3\\lib\\site-packages\\mne\\io\\edf\\edf.py:1044: DeprecationWarning: The binary mode of fromstring is deprecated, as it behaves surprisingly on unicode inputs. Use frombuffer instead\n",
      "  etmode = np.fromstring(etmode, UINT8).tolist()[0]\n",
      "<ipython-input-39-948fa8eb8205>:8: RuntimeWarning: Channel names are not unique, found duplicates for: {'EEG'}. Applying running numbers for duplicates.\n",
      "  raw=mne.io.read_raw_gdf(path+item, verbose=False, preload=True)\n",
      "C:\\Users\\viniv\\Anaconda3\\lib\\site-packages\\mne\\io\\edf\\edf.py:1044: DeprecationWarning: The binary mode of fromstring is deprecated, as it behaves surprisingly on unicode inputs. Use frombuffer instead\n",
      "  etmode = np.fromstring(etmode, UINT8).tolist()[0]\n",
      "<ipython-input-39-948fa8eb8205>:8: RuntimeWarning: Channel names are not unique, found duplicates for: {'EEG'}. Applying running numbers for duplicates.\n",
      "  raw=mne.io.read_raw_gdf(path+item, verbose=False, preload=True)\n",
      "C:\\Users\\viniv\\Anaconda3\\lib\\site-packages\\mne\\io\\edf\\edf.py:1044: DeprecationWarning: The binary mode of fromstring is deprecated, as it behaves surprisingly on unicode inputs. Use frombuffer instead\n",
      "  etmode = np.fromstring(etmode, UINT8).tolist()[0]\n",
      "<ipython-input-39-948fa8eb8205>:8: RuntimeWarning: Channel names are not unique, found duplicates for: {'EEG'}. Applying running numbers for duplicates.\n",
      "  raw=mne.io.read_raw_gdf(path+item, verbose=False, preload=True)\n",
      "C:\\Users\\viniv\\Anaconda3\\lib\\site-packages\\mne\\io\\edf\\edf.py:1044: DeprecationWarning: The binary mode of fromstring is deprecated, as it behaves surprisingly on unicode inputs. Use frombuffer instead\n",
      "  etmode = np.fromstring(etmode, UINT8).tolist()[0]\n",
      "<ipython-input-39-948fa8eb8205>:8: RuntimeWarning: Channel names are not unique, found duplicates for: {'EEG'}. Applying running numbers for duplicates.\n",
      "  raw=mne.io.read_raw_gdf(path+item, verbose=False, preload=True)\n",
      "C:\\Users\\viniv\\Anaconda3\\lib\\site-packages\\mne\\io\\edf\\edf.py:1044: DeprecationWarning: The binary mode of fromstring is deprecated, as it behaves surprisingly on unicode inputs. Use frombuffer instead\n",
      "  etmode = np.fromstring(etmode, UINT8).tolist()[0]\n",
      "<ipython-input-39-948fa8eb8205>:8: RuntimeWarning: Channel names are not unique, found duplicates for: {'EEG'}. Applying running numbers for duplicates.\n",
      "  raw=mne.io.read_raw_gdf(path+item, verbose=False, preload=True)\n",
      "C:\\Users\\viniv\\Anaconda3\\lib\\site-packages\\mne\\io\\edf\\edf.py:1044: DeprecationWarning: The binary mode of fromstring is deprecated, as it behaves surprisingly on unicode inputs. Use frombuffer instead\n",
      "  etmode = np.fromstring(etmode, UINT8).tolist()[0]\n",
      "<ipython-input-39-948fa8eb8205>:8: RuntimeWarning: Channel names are not unique, found duplicates for: {'EEG'}. Applying running numbers for duplicates.\n",
      "  raw=mne.io.read_raw_gdf(path+item, verbose=False, preload=True)\n",
      "C:\\Users\\viniv\\Anaconda3\\lib\\site-packages\\mne\\io\\edf\\edf.py:1044: DeprecationWarning: The binary mode of fromstring is deprecated, as it behaves surprisingly on unicode inputs. Use frombuffer instead\n",
      "  etmode = np.fromstring(etmode, UINT8).tolist()[0]\n",
      "<ipython-input-39-948fa8eb8205>:8: RuntimeWarning: Channel names are not unique, found duplicates for: {'EEG'}. Applying running numbers for duplicates.\n",
      "  raw=mne.io.read_raw_gdf(path+item, verbose=False, preload=True)\n",
      "C:\\Users\\viniv\\Anaconda3\\lib\\site-packages\\mne\\io\\edf\\edf.py:1044: DeprecationWarning: The binary mode of fromstring is deprecated, as it behaves surprisingly on unicode inputs. Use frombuffer instead\n",
      "  etmode = np.fromstring(etmode, UINT8).tolist()[0]\n",
      "<ipython-input-39-948fa8eb8205>:8: RuntimeWarning: Channel names are not unique, found duplicates for: {'EEG'}. Applying running numbers for duplicates.\n",
      "  raw=mne.io.read_raw_gdf(path+item, verbose=False, preload=True)\n",
      "C:\\Users\\viniv\\Anaconda3\\lib\\site-packages\\mne\\io\\edf\\edf.py:1044: DeprecationWarning: The binary mode of fromstring is deprecated, as it behaves surprisingly on unicode inputs. Use frombuffer instead\n",
      "  etmode = np.fromstring(etmode, UINT8).tolist()[0]\n",
      "<ipython-input-39-948fa8eb8205>:8: RuntimeWarning: Channel names are not unique, found duplicates for: {'EEG'}. Applying running numbers for duplicates.\n",
      "  raw=mne.io.read_raw_gdf(path+item, verbose=False, preload=True)\n",
      "C:\\Users\\viniv\\Anaconda3\\lib\\site-packages\\mne\\io\\edf\\edf.py:1044: DeprecationWarning: The binary mode of fromstring is deprecated, as it behaves surprisingly on unicode inputs. Use frombuffer instead\n",
      "  etmode = np.fromstring(etmode, UINT8).tolist()[0]\n",
      "<ipython-input-39-948fa8eb8205>:8: RuntimeWarning: Channel names are not unique, found duplicates for: {'EEG'}. Applying running numbers for duplicates.\n",
      "  raw=mne.io.read_raw_gdf(path+item, verbose=False, preload=True)\n",
      "C:\\Users\\viniv\\Anaconda3\\lib\\site-packages\\mne\\io\\edf\\edf.py:1044: DeprecationWarning: The binary mode of fromstring is deprecated, as it behaves surprisingly on unicode inputs. Use frombuffer instead\n",
      "  etmode = np.fromstring(etmode, UINT8).tolist()[0]\n",
      "<ipython-input-39-948fa8eb8205>:8: RuntimeWarning: Channel names are not unique, found duplicates for: {'EEG'}. Applying running numbers for duplicates.\n",
      "  raw=mne.io.read_raw_gdf(path+item, verbose=False, preload=True)\n"
     ]
    },
    {
     "name": "stdout",
     "output_type": "stream",
     "text": [
      "(672528, 22)\n",
      "0.0006457132104828345\n",
      "-0.0006461001398773491\n"
     ]
    }
   ],
   "source": [
    "train, test = load_dataset(preprocessing=True)\n",
    "print(train[0].shape)\n",
    "print(train[0].max())\n",
    "print(train[0].min())"
   ]
  },
  {
   "cell_type": "markdown",
   "id": "green-breath",
   "metadata": {},
   "source": [
    "# Multivariate dictionary learning"
   ]
  },
  {
   "cell_type": "markdown",
   "id": "initial-intellectual",
   "metadata": {},
   "source": [
    "In this section, we will use the multivariate dictionary learning (M-DLA) presented in the article. This algorithm is the alternation of two phases : \n",
    "- Multivariate sparse approximation, using multivariate orthogonal matching pursuit (M-OMP)\n",
    "- Multivariate dictionary update, using a maximum likelihood criterion."
   ]
  },
  {
   "cell_type": "markdown",
   "id": "whole-prisoner",
   "metadata": {},
   "source": [
    "Sparse approximation"
   ]
  },
  {
   "cell_type": "code",
   "execution_count": null,
   "id": "boring-competition",
   "metadata": {},
   "outputs": [],
   "source": [
    "def M_OMP(signal, compact_dict, n_nonzero_coefs):\n",
    "    \"\"\"\n",
    "    Parameters:\n",
    "    signal: array of shape (n_features, n_dims)\n",
    "        it's the data for one session, for one patient.\n",
    "    compact_dict: list of arrays\n",
    "        compact dictionary among which the members of the active\n",
    "        dictionary will be chosen. Each element is a convolution kernel,\n",
    "        i.e. an array of shape (k, n_dims), where k <= n_features and is\n",
    "        kernel specific. The algorithm normalizes the kernels.\n",
    "    n_nonzero_coefs: int\n",
    "        number of non-zero coordinates in the final sparse coding\n",
    "        vector.\n",
    "        \n",
    "    \"\"\""
   ]
  },
  {
   "cell_type": "markdown",
   "id": "cordless-substance",
   "metadata": {},
   "source": [
    "Dictionary update"
   ]
  },
  {
   "cell_type": "code",
   "execution_count": null,
   "id": "technical-qatar",
   "metadata": {},
   "outputs": [],
   "source": []
  },
  {
   "cell_type": "markdown",
   "id": "disciplinary-ballot",
   "metadata": {},
   "source": [
    "Dictionary learning"
   ]
  },
  {
   "cell_type": "code",
   "execution_count": null,
   "id": "canadian-creation",
   "metadata": {},
   "outputs": [],
   "source": []
  }
 ],
 "metadata": {
  "kernelspec": {
   "display_name": "Python 3",
   "language": "python",
   "name": "python3"
  },
  "language_info": {
   "codemirror_mode": {
    "name": "ipython",
    "version": 3
   },
   "file_extension": ".py",
   "mimetype": "text/x-python",
   "name": "python",
   "nbconvert_exporter": "python",
   "pygments_lexer": "ipython3",
   "version": "3.7.9"
  }
 },
 "nbformat": 4,
 "nbformat_minor": 5
}
